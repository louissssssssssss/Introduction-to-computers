{
  "nbformat": 4,
  "nbformat_minor": 0,
  "metadata": {
    "colab": {
      "name": "0525.ipynb",
      "provenance": [],
      "authorship_tag": "ABX9TyPbw+hCRh72rjJCBmBpAiMo",
      "include_colab_link": true
    },
    "kernelspec": {
      "name": "python3",
      "display_name": "Python 3"
    },
    "language_info": {
      "name": "python"
    }
  },
  "cells": [
    {
      "cell_type": "markdown",
      "metadata": {
        "id": "view-in-github",
        "colab_type": "text"
      },
      "source": [
        "<a href=\"https://colab.research.google.com/github/louissssssssssss/Introduction-to-computers/blob/main/0525.ipynb\" target=\"_parent\"><img src=\"https://colab.research.google.com/assets/colab-badge.svg\" alt=\"Open In Colab\"/></a>"
      ]
    },
    {
      "cell_type": "code",
      "execution_count": 1,
      "metadata": {
        "colab": {
          "base_uri": "https://localhost:8080/"
        },
        "id": "lvDdq1MVj_lD",
        "outputId": "ddb2e95f-72c2-4307-86fe-be4cda0240f2"
      },
      "outputs": [
        {
          "output_type": "stream",
          "name": "stdout",
          "text": [
            "1\n"
          ]
        }
      ],
      "source": [
        "print('1')"
      ]
    },
    {
      "cell_type": "code",
      "source": [
        "sum = 0\n",
        "test = int(input('請輸入一個正整數'))\n",
        "for n in range(1,test+1):\n",
        "  sum=sum+n\n",
        "print('1到',test,'的整數和為',sum)"
      ],
      "metadata": {
        "colab": {
          "base_uri": "https://localhost:8080/"
        },
        "id": "h-Eov4p1kEWp",
        "outputId": "b594fd83-3881-4d61-c27a-810eecc97917"
      },
      "execution_count": 4,
      "outputs": [
        {
          "output_type": "stream",
          "name": "stdout",
          "text": [
            "請輸入一個正整數50\n",
            "1到 50 的整數和為 1275\n"
          ]
        }
      ]
    },
    {
      "cell_type": "code",
      "source": [
        "sum = 0\n",
        "test = int(input('請輸入一個正整數'))\n",
        "for m in range(1,test+1):\n",
        "  sum=sum+m\n",
        "  print('1到',str(m),'的整數和為',sum)"
      ],
      "metadata": {
        "colab": {
          "base_uri": "https://localhost:8080/"
        },
        "id": "tTUBJIyAkfsg",
        "outputId": "0310448f-d080-4190-8af0-fb6560b2c71e"
      },
      "execution_count": 8,
      "outputs": [
        {
          "output_type": "stream",
          "name": "stdout",
          "text": [
            "請輸入一個正整數50\n",
            "1到 1 的整數和為 1\n",
            "1到 2 的整數和為 3\n",
            "1到 3 的整數和為 6\n",
            "1到 4 的整數和為 10\n",
            "1到 5 的整數和為 15\n",
            "1到 6 的整數和為 21\n",
            "1到 7 的整數和為 28\n",
            "1到 8 的整數和為 36\n",
            "1到 9 的整數和為 45\n",
            "1到 10 的整數和為 55\n",
            "1到 11 的整數和為 66\n",
            "1到 12 的整數和為 78\n",
            "1到 13 的整數和為 91\n",
            "1到 14 的整數和為 105\n",
            "1到 15 的整數和為 120\n",
            "1到 16 的整數和為 136\n",
            "1到 17 的整數和為 153\n",
            "1到 18 的整數和為 171\n",
            "1到 19 的整數和為 190\n",
            "1到 20 的整數和為 210\n",
            "1到 21 的整數和為 231\n",
            "1到 22 的整數和為 253\n",
            "1到 23 的整數和為 276\n",
            "1到 24 的整數和為 300\n",
            "1到 25 的整數和為 325\n",
            "1到 26 的整數和為 351\n",
            "1到 27 的整數和為 378\n",
            "1到 28 的整數和為 406\n",
            "1到 29 的整數和為 435\n",
            "1到 30 的整數和為 465\n",
            "1到 31 的整數和為 496\n",
            "1到 32 的整數和為 528\n",
            "1到 33 的整數和為 561\n",
            "1到 34 的整數和為 595\n",
            "1到 35 的整數和為 630\n",
            "1到 36 的整數和為 666\n",
            "1到 37 的整數和為 703\n",
            "1到 38 的整數和為 741\n",
            "1到 39 的整數和為 780\n",
            "1到 40 的整數和為 820\n",
            "1到 41 的整數和為 861\n",
            "1到 42 的整數和為 903\n",
            "1到 43 的整數和為 946\n",
            "1到 44 的整數和為 990\n",
            "1到 45 的整數和為 1035\n",
            "1到 46 的整數和為 1081\n",
            "1到 47 的整數和為 1128\n",
            "1到 48 的整數和為 1176\n",
            "1到 49 的整數和為 1225\n",
            "1到 50 的整數和為 1275\n"
          ]
        }
      ]
    },
    {
      "cell_type": "code",
      "source": [
        "for j in range(1,5+1):\n",
        "  print(j)\n",
        "  for i in range(1,3):\n",
        "    k = i*j\n",
        "    print(j,'*',i,'=',k)"
      ],
      "metadata": {
        "colab": {
          "base_uri": "https://localhost:8080/"
        },
        "id": "Ps8oNAgZlNwt",
        "outputId": "c226f80e-cbb9-49af-d22b-5702e43d28eb"
      },
      "execution_count": 12,
      "outputs": [
        {
          "output_type": "stream",
          "name": "stdout",
          "text": [
            "1\n",
            "1 * 1 = 1\n",
            "1 * 2 = 2\n",
            "2\n",
            "2 * 1 = 2\n",
            "2 * 2 = 4\n",
            "3\n",
            "3 * 1 = 3\n",
            "3 * 2 = 6\n",
            "4\n",
            "4 * 1 = 4\n",
            "4 * 2 = 8\n",
            "5\n",
            "5 * 1 = 5\n",
            "5 * 2 = 10\n"
          ]
        }
      ]
    },
    {
      "cell_type": "code",
      "source": [
        "for i in range(1,5):\n",
        "  if(i==45):\n",
        "    break\n",
        "  print(i,end=' ')"
      ],
      "metadata": {
        "colab": {
          "base_uri": "https://localhost:8080/"
        },
        "id": "kSbUSEqtnO1Q",
        "outputId": "0d96615a-0d33-405e-e343-4ef0f6071c19"
      },
      "execution_count": 15,
      "outputs": [
        {
          "output_type": "stream",
          "name": "stdout",
          "text": [
            "1 2 3 4 "
          ]
        }
      ]
    },
    {
      "cell_type": "code",
      "source": [
        "count = 0\n",
        "for string in 'hellol':\n",
        "  count+=1\n",
        "  if string == 'o':\n",
        "    break\n",
        "  print(string)\n",
        "print('迴圈結束')\n",
        "print('迴圈執行了 %d 次'%count)"
      ],
      "metadata": {
        "colab": {
          "base_uri": "https://localhost:8080/"
        },
        "id": "ojco26yApWX0",
        "outputId": "5a5d4c57-0370-408d-f984-dbbd76ce18e7"
      },
      "execution_count": 17,
      "outputs": [
        {
          "output_type": "stream",
          "name": "stdout",
          "text": [
            "h\n",
            "e\n",
            "l\n",
            "l\n",
            "迴圈結束\n",
            "迴圈執行了 5 次\n"
          ]
        }
      ]
    },
    {
      "cell_type": "code",
      "source": [
        "count = 0\n",
        "for string in '測試1':\n",
        "  count+=1\n",
        "  if string == '1':\n",
        "    break\n",
        "  print(string)\n",
        "print('迴圈結束')\n",
        "print('迴圈執行了 %d 次'%count)"
      ],
      "metadata": {
        "colab": {
          "base_uri": "https://localhost:8080/"
        },
        "id": "JNFdzVQNqscF",
        "outputId": "3aa417d1-818b-4291-b2a6-c8308b0f5e5f"
      },
      "execution_count": 18,
      "outputs": [
        {
          "output_type": "stream",
          "name": "stdout",
          "text": [
            "測\n",
            "試\n",
            "迴圈結束\n",
            "迴圈執行了 3 次\n"
          ]
        }
      ]
    },
    {
      "cell_type": "code",
      "source": [
        "for j in range(2,10):\n",
        "  for i in range(1,10):\n",
        "    k = i*j\n",
        "    if(k<10):\n",
        "      print(j,'*',i,'=',k,end='   ')\n",
        "    else:\n",
        "      print(j,'*',i,'=',k,end='  ')\n",
        "  print()"
      ],
      "metadata": {
        "colab": {
          "base_uri": "https://localhost:8080/"
        },
        "id": "UkqGupGvsGyL",
        "outputId": "b50ab152-d339-415d-99c0-1676b00e1c98"
      },
      "execution_count": 84,
      "outputs": [
        {
          "output_type": "stream",
          "name": "stdout",
          "text": [
            "2 * 1 = 2   2 * 2 = 4   2 * 3 = 6   2 * 4 = 8   2 * 5 = 10  2 * 6 = 12  2 * 7 = 14  2 * 8 = 16  2 * 9 = 18  \n",
            "3 * 1 = 3   3 * 2 = 6   3 * 3 = 9   3 * 4 = 12  3 * 5 = 15  3 * 6 = 18  3 * 7 = 21  3 * 8 = 24  3 * 9 = 27  \n",
            "4 * 1 = 4   4 * 2 = 8   4 * 3 = 12  4 * 4 = 16  4 * 5 = 20  4 * 6 = 24  4 * 7 = 28  4 * 8 = 32  4 * 9 = 36  \n",
            "5 * 1 = 5   5 * 2 = 10  5 * 3 = 15  5 * 4 = 20  5 * 5 = 25  5 * 6 = 30  5 * 7 = 35  5 * 8 = 40  5 * 9 = 45  \n",
            "6 * 1 = 6   6 * 2 = 12  6 * 3 = 18  6 * 4 = 24  6 * 5 = 30  6 * 6 = 36  6 * 7 = 42  6 * 8 = 48  6 * 9 = 54  \n",
            "7 * 1 = 7   7 * 2 = 14  7 * 3 = 21  7 * 4 = 28  7 * 5 = 35  7 * 6 = 42  7 * 7 = 49  7 * 8 = 56  7 * 9 = 63  \n",
            "8 * 1 = 8   8 * 2 = 16  8 * 3 = 24  8 * 4 = 32  8 * 5 = 40  8 * 6 = 48  8 * 7 = 56  8 * 8 = 64  8 * 9 = 72  \n",
            "9 * 1 = 9   9 * 2 = 18  9 * 3 = 27  9 * 4 = 36  9 * 5 = 45  9 * 6 = 54  9 * 7 = 63  9 * 8 = 72  9 * 9 = 81  \n"
          ]
        }
      ]
    },
    {
      "cell_type": "code",
      "source": [
        "a=int(input('請輸入a的值:'))\n",
        "b=int(input('請輸入b的值:'))\n",
        "\n",
        "for i in range(1,(a*b)+1):\n",
        "  if(i%a==0 and i%b==0):\n",
        "    break\n",
        "print(a,'和',b,'的最小公倍數=',i)"
      ],
      "metadata": {
        "colab": {
          "base_uri": "https://localhost:8080/"
        },
        "id": "s8-M6qPgtnPF",
        "outputId": "88f9ed56-9a44-47b3-b6a2-b1e260977666"
      },
      "execution_count": 56,
      "outputs": [
        {
          "output_type": "stream",
          "name": "stdout",
          "text": [
            "請輸入a的值:9\n",
            "請輸入b的值:15\n",
            "9 和 15 的最小公倍數= 45\n"
          ]
        }
      ]
    },
    {
      "cell_type": "code",
      "source": [
        "a=int(input('請輸入正整數:'))\n",
        "for i in range(1,a+1):\n",
        "  if(i%5==0):\n",
        "    continue\n",
        "  print(i,end=' ')"
      ],
      "metadata": {
        "colab": {
          "base_uri": "https://localhost:8080/"
        },
        "id": "GtzHad962Dbm",
        "outputId": "cee1995f-bbe2-46f9-b8a8-255a8c386d77"
      },
      "execution_count": 99,
      "outputs": [
        {
          "output_type": "stream",
          "name": "stdout",
          "text": [
            "請輸入正整數:12\n",
            "1 2 3 4 6 7 8 9 11 12 "
          ]
        }
      ]
    },
    {
      "cell_type": "code",
      "source": [
        ""
      ],
      "metadata": {
        "id": "ViyWbSoX3tjv"
      },
      "execution_count": null,
      "outputs": []
    }
  ]
}