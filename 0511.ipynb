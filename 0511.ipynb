{
  "nbformat": 4,
  "nbformat_minor": 0,
  "metadata": {
    "colab": {
      "name": "0511.ipynb",
      "provenance": [],
      "authorship_tag": "ABX9TyP17rnaFv0J28AV1olXHCGn",
      "include_colab_link": true
    },
    "kernelspec": {
      "name": "python3",
      "display_name": "Python 3"
    },
    "language_info": {
      "name": "python"
    }
  },
  "cells": [
    {
      "cell_type": "markdown",
      "metadata": {
        "id": "view-in-github",
        "colab_type": "text"
      },
      "source": [
        "<a href=\"https://colab.research.google.com/github/louissssssssssss/Introduction-to-computers/blob/main/0511.ipynb\" target=\"_parent\"><img src=\"https://colab.research.google.com/assets/colab-badge.svg\" alt=\"Open In Colab\"/></a>"
      ]
    },
    {
      "cell_type": "code",
      "execution_count": null,
      "metadata": {
        "colab": {
          "base_uri": "https://localhost:8080/"
        },
        "id": "5dQA8VOQhHhk",
        "outputId": "846c6bef-f163-4bbb-d95f-db392efc7351"
      },
      "outputs": [
        {
          "output_type": "stream",
          "name": "stdout",
          "text": [
            "test\n"
          ]
        }
      ],
      "source": [
        "print('test')"
      ]
    },
    {
      "cell_type": "code",
      "source": [
        "temp=float(input('請輸入你的體溫'))\n",
        "if temp >=37.5:\n",
        "  print('體溫過高')\n",
        "elif temp >=37 and temp <=37.4:\n",
        "  print('體溫略高!')\n",
        "elif temp >=34 and temp <=36.9:\n",
        "  print('體溫正常!')\n",
        "else:\n",
        "  print('體溫異常,請重新量測!')"
      ],
      "metadata": {
        "colab": {
          "base_uri": "https://localhost:8080/"
        },
        "id": "n0o6rtHMhNBK",
        "outputId": "b0b20bd1-bbe9-439b-8023-952fb858f118"
      },
      "execution_count": null,
      "outputs": [
        {
          "output_type": "stream",
          "name": "stdout",
          "text": [
            "請輸入你的體溫37.4\n",
            "體溫略高!\n"
          ]
        }
      ]
    },
    {
      "cell_type": "code",
      "source": [
        "money=int(input('請輸入購物金額:'))\n",
        "if(money >= 10000):\n",
        "  if(money >= 100000):\n",
        "    print('八折',money*0.8,end='元\\n')\n",
        "  elif(money >= 50000):\n",
        "    print('八五折',money*0.85,end='元\\n')\n",
        "  elif(money >= 30000):\n",
        "    print('九折',money*0.9,end='元\\n')\n",
        "  else:\n",
        "    print('九五折',money*0.95,end='元\\n')\n",
        "else:\n",
        "  print('沒打折',money,end='元\\n')"
      ],
      "metadata": {
        "id": "zO0_0fqGkiWV",
        "colab": {
          "base_uri": "https://localhost:8080/"
        },
        "outputId": "b2252381-c22a-4fef-b676-4f6464c5973a"
      },
      "execution_count": 8,
      "outputs": [
        {
          "output_type": "stream",
          "name": "stdout",
          "text": [
            "請輸入購物金額:5000\n",
            "沒打折 5000元\n"
          ]
        }
      ]
    },
    {
      "cell_type": "code",
      "source": [
        "a=int(input('請輸入成績'))\n",
        "if a>=90:\n",
        "  print('A')\n",
        "elif a>=80 and a<=89:\n",
        "  print('B')\n",
        "elif a>=70 and a<=89:\n",
        "  print('C')\n",
        "elif a>=60 and a<=69:\n",
        "  print('D')\n",
        "else:\n",
        "  print('E') \n"
      ],
      "metadata": {
        "colab": {
          "base_uri": "https://localhost:8080/"
        },
        "id": "HchLsLZ7mORK",
        "outputId": "38aeed75-3707-4070-e340-9a8d3663036a"
      },
      "execution_count": 15,
      "outputs": [
        {
          "output_type": "stream",
          "name": "stdout",
          "text": [
            "請輸入成績50\n",
            "E\n"
          ]
        }
      ]
    },
    {
      "cell_type": "code",
      "source": [
        "season=int(input('請輸入月份'))\n",
        "if (season==3 or season==4 or season==5):\n",
        "  print(season,'月是春天!')\n",
        "elif (season==6 or season==7 or season==8):\n",
        "  print(season,'月是夏天!')\n",
        "elif (season==6 or season==7 or season==8):\n",
        "  print(season,'月是夏天!')\n",
        "elif (season==9 or season==10 or season==11):\n",
        "  print(season,'月是秋天!')\n",
        "elif (season==12 or season==1 or season==2):\n",
        "  print(season,'月是冬天!')\n",
        "else:\n",
        "  print('月份不再範圍內!')\n"
      ],
      "metadata": {
        "colab": {
          "base_uri": "https://localhost:8080/"
        },
        "id": "9WQiFoNvrlla",
        "outputId": "5ad2643f-2e6a-4d94-ec87-915c53953ddc"
      },
      "execution_count": 23,
      "outputs": [
        {
          "output_type": "stream",
          "name": "stdout",
          "text": [
            "請輸入月份11\n",
            "11 月是秋天!\n"
          ]
        }
      ]
    },
    {
      "cell_type": "code",
      "source": [
        "a=float(input('請輸入今年收入淨額:'))\n",
        "if(a >= 300000):\n",
        "  if(money >= 300000):\n",
        "    print('賦稅金額:',a*0.06,'元')\n",
        "  elif(money >= 600000):\n",
        "    print('賦稅金額:',money*0.13,'元')\n",
        "  elif(money >= 1000000):\n",
        "    print('賦稅金額:',money*0.21,'元')\n",
        "  else:\n",
        "    print('賦稅金額:',a*0.3,'元')\n",
        "else:\n",
        "  print('賦稅金額:0元')"
      ],
      "metadata": {
        "colab": {
          "base_uri": "https://localhost:8080/"
        },
        "id": "X59xx_Mss5HS",
        "outputId": "99c6d3a3-8c5c-49a6-80d8-f2b84fe49795"
      },
      "execution_count": 26,
      "outputs": [
        {
          "output_type": "stream",
          "name": "stdout",
          "text": [
            "請輸入今年收入淨額:2000000\n",
            "賦稅金額: 600000.0 元\n"
          ]
        }
      ]
    },
    {
      "cell_type": "code",
      "source": [
        ""
      ],
      "metadata": {
        "id": "pxVHFFsewtjP"
      },
      "execution_count": null,
      "outputs": []
    }
  ]
}